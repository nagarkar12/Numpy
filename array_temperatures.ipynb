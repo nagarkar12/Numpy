{
 "cells": [
  {
   "cell_type": "code",
   "execution_count": 1,
   "id": "ba59013e-12e4-41b2-8fbb-5132e3aed254",
   "metadata": {},
   "outputs": [],
   "source": [
    "import numpy as np"
   ]
  },
  {
   "cell_type": "code",
   "execution_count": 3,
   "id": "f9712004-f036-48b2-a28b-32b375309b0f",
   "metadata": {},
   "outputs": [],
   "source": [
    "import random"
   ]
  },
  {
   "cell_type": "markdown",
   "id": "4e745558-d4f3-49a3-a18a-88b45bf6c3bd",
   "metadata": {},
   "source": [
    "Q10. Create a NumPy array representing daily temperatures for a month. Calculate and display the weekly. averages"
   ]
  },
  {
   "cell_type": "code",
   "execution_count": 7,
   "id": "02672be1-9ab6-42e0-8ad3-13e8e9d9354f",
   "metadata": {},
   "outputs": [
    {
     "name": "stdout",
     "output_type": "stream",
     "text": [
      "Daily temperatures [21 19 20 29 21 32 22 26 32 30 34 29 34 18 26 29 27 18 20 23]\n",
      "Weekly temperatures [23.42857143 29.         23.83333333         nan         nan]\n"
     ]
    }
   ],
   "source": [
    "tem = np.random.randint(15,35,size=20)\n",
    "wee = np.array([np.mean(tem[i:i+7]) for i in range(0,30,7)])\n",
    "print(\"Daily temperatures\",tem)\n",
    "print(\"Weekly temperatures\",wee)"
   ]
  },
  {
   "cell_type": "code",
   "execution_count": 8,
   "id": "a0b2732e-c80d-489d-b87b-7c5f04f79d9a",
   "metadata": {},
   "outputs": [
    {
     "data": {
      "text/plain": [
       "20"
      ]
     },
     "execution_count": 8,
     "metadata": {},
     "output_type": "execute_result"
    }
   ],
   "source": [
    "tem.size"
   ]
  },
  {
   "cell_type": "code",
   "execution_count": 9,
   "id": "02864b73-1dbb-4bca-956f-74ea4fb980d9",
   "metadata": {},
   "outputs": [
    {
     "data": {
      "text/plain": [
       "5"
      ]
     },
     "execution_count": 9,
     "metadata": {},
     "output_type": "execute_result"
    }
   ],
   "source": [
    "wee.size"
   ]
  },
  {
   "cell_type": "code",
   "execution_count": null,
   "id": "3a49f7bf-c66b-40c2-b368-041c3ebe585e",
   "metadata": {},
   "outputs": [],
   "source": []
  }
 ],
 "metadata": {
  "kernelspec": {
   "display_name": "Python 3 (ipykernel)",
   "language": "python",
   "name": "python3"
  },
  "language_info": {
   "codemirror_mode": {
    "name": "ipython",
    "version": 3
   },
   "file_extension": ".py",
   "mimetype": "text/x-python",
   "name": "python",
   "nbconvert_exporter": "python",
   "pygments_lexer": "ipython3",
   "version": "3.10.8"
  }
 },
 "nbformat": 4,
 "nbformat_minor": 5
}
