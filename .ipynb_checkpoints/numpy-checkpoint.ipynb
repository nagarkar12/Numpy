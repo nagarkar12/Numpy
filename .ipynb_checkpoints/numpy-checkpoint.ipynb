{
 "cells": [
  {
   "cell_type": "code",
   "execution_count": 2,
   "id": "80713923-7b1e-4660-a4cd-3991bde5e19a",
   "metadata": {},
   "outputs": [],
   "source": [
    "import numpy as np"
   ]
  },
  {
   "cell_type": "code",
   "execution_count": 3,
   "id": "40f61ae6-57e9-4607-86bd-1bb8a1e9425b",
   "metadata": {},
   "outputs": [],
   "source": [
    "import random"
   ]
  },
  {
   "cell_type": "markdown",
   "id": "628976b2-ec75-4293-a6d9-8504d76759f0",
   "metadata": {},
   "source": [
    " Q1.Create a 3x3 NumPy array with random integers between 1 and 100. Then, interchange its rows and columns."
   ]
  },
  {
   "cell_type": "code",
   "execution_count": 4,
   "id": "872ca25f-6668-4db6-9126-038b08fffb94",
   "metadata": {},
   "outputs": [
    {
     "data": {
      "text/plain": [
       "array([[17,  3, 75],\n",
       "       [58, 69, 42],\n",
       "       [93, 78, 65]])"
      ]
     },
     "execution_count": 4,
     "metadata": {},
     "output_type": "execute_result"
    }
   ],
   "source": [
    "arr = np.random.randint(1, 100, size = (3,3))\n",
    "arr"
   ]
  },
  {
   "cell_type": "code",
   "execution_count": 5,
   "id": "43484734-c204-4de6-895e-4d4e5615006c",
   "metadata": {},
   "outputs": [
    {
     "data": {
      "text/plain": [
       "array([[17],\n",
       "       [ 3],\n",
       "       [75],\n",
       "       [58],\n",
       "       [69],\n",
       "       [42],\n",
       "       [93],\n",
       "       [78],\n",
       "       [65]])"
      ]
     },
     "execution_count": 5,
     "metadata": {},
     "output_type": "execute_result"
    }
   ],
   "source": [
    "a = arr.reshape(9,1)\n",
    "a"
   ]
  },
  {
   "cell_type": "code",
   "execution_count": 6,
   "id": "f63afee1-8bc0-4f2f-8450-a3d38d4d0848",
   "metadata": {},
   "outputs": [
    {
     "data": {
      "text/plain": [
       "array([[17,  3, 75, 58, 69, 42, 93, 78, 65]])"
      ]
     },
     "execution_count": 6,
     "metadata": {},
     "output_type": "execute_result"
    }
   ],
   "source": [
    "a = arr.reshape(1,9)\n",
    "a"
   ]
  },
  {
   "cell_type": "markdown",
   "id": "561e1c0e-f664-45c3-8114-2c2b3371c3b7",
   "metadata": {},
   "source": [
    "Q2. Generate a ID NumPy array with 10 elements. Reshape it into a 2x5 array, then into a 5x2 array"
   ]
  },
  {
   "cell_type": "code",
   "execution_count": 7,
   "id": "4f0d69b4-8c9c-4c58-be0c-e880d394ea6c",
   "metadata": {},
   "outputs": [
    {
     "data": {
      "text/plain": [
       "array([[2, 2, 1, 3, 2],\n",
       "       [2, 3, 1, 2, 1]])"
      ]
     },
     "execution_count": 7,
     "metadata": {},
     "output_type": "execute_result"
    }
   ],
   "source": [
    "arr1= np.random.randint(1, 5, size = (2, 5))\n",
    "arr1"
   ]
  },
  {
   "cell_type": "code",
   "execution_count": 8,
   "id": "8f71072d-6587-4d9e-8cae-1eb060c6e8db",
   "metadata": {},
   "outputs": [
    {
     "data": {
      "text/plain": [
       "10"
      ]
     },
     "execution_count": 8,
     "metadata": {},
     "output_type": "execute_result"
    }
   ],
   "source": [
    "arr1.size"
   ]
  },
  {
   "cell_type": "code",
   "execution_count": 9,
   "id": "f06e6744-d976-4bed-b992-b9756d555a9a",
   "metadata": {},
   "outputs": [
    {
     "data": {
      "text/plain": [
       "array([[2, 2, 1, 3, 2],\n",
       "       [2, 3, 1, 2, 1]])"
      ]
     },
     "execution_count": 9,
     "metadata": {},
     "output_type": "execute_result"
    }
   ],
   "source": [
    "a = arr1.reshape(2,5)\n",
    "a"
   ]
  },
  {
   "cell_type": "code",
   "execution_count": 10,
   "id": "1e061cc3-eb94-4804-9572-f6da3fe25403",
   "metadata": {},
   "outputs": [
    {
     "data": {
      "text/plain": [
       "array([[2, 2],\n",
       "       [1, 3],\n",
       "       [2, 2],\n",
       "       [3, 1],\n",
       "       [2, 1]])"
      ]
     },
     "execution_count": 10,
     "metadata": {},
     "output_type": "execute_result"
    }
   ],
   "source": [
    "a = arr1.reshape(5,2)\n",
    "a"
   ]
  },
  {
   "cell_type": "markdown",
   "id": "decb8107-72d9-457d-bd04-4ae0b551224d",
   "metadata": {},
   "source": [
    "Q3. Create a 4x4 NumPy array with random float values. Add a border of zeros around it, resulting in a 6x6 array."
   ]
  },
  {
   "cell_type": "code",
   "execution_count": 11,
   "id": "a22c6eb2-da5f-4b8b-aeb4-45a25cf6f917",
   "metadata": {},
   "outputs": [
    {
     "data": {
      "text/plain": [
       "array([[0.95454408, 0.79275394, 0.65785686, 0.03501371],\n",
       "       [0.56739516, 0.37360682, 0.65034676, 0.62479679],\n",
       "       [0.52686395, 0.01103103, 0.35479742, 0.12560575],\n",
       "       [0.73463359, 0.4768414 , 0.32281951, 0.37788769]])"
      ]
     },
     "execution_count": 11,
     "metadata": {},
     "output_type": "execute_result"
    }
   ],
   "source": [
    "ran = np.random.rand(4,4)\n",
    "ran"
   ]
  },
  {
   "cell_type": "code",
   "execution_count": 15,
   "id": "f4c28a62-7176-4338-b8e2-41f8dc9d9fb8",
   "metadata": {},
   "outputs": [
    {
     "data": {
      "text/plain": [
       "array([[0., 0., 0., 0., 0., 0.],\n",
       "       [0., 0., 0., 0., 0., 0.],\n",
       "       [0., 0., 0., 0., 0., 0.],\n",
       "       [0., 0., 0., 0., 0., 0.],\n",
       "       [0., 0., 0., 0., 0., 0.],\n",
       "       [0., 0., 0., 0., 0., 0.]])"
      ]
     },
     "execution_count": 15,
     "metadata": {},
     "output_type": "execute_result"
    }
   ],
   "source": [
    "ran = np.zeros((6,6))\n",
    "ran"
   ]
  },
  {
   "cell_type": "markdown",
   "id": "ad5eccbf-9327-49bf-a532-63b898e29131",
   "metadata": {},
   "source": [
    "Q4. Using NumPy, create an array of integers from 10 to 60 with a step of 5."
   ]
  },
  {
   "cell_type": "code",
   "execution_count": 17,
   "id": "4197e3e2-6a8c-4859-84c3-c7879f112fae",
   "metadata": {},
   "outputs": [
    {
     "data": {
      "text/plain": [
       "array([[30, 23, 18],\n",
       "       [58, 36, 27],\n",
       "       [37, 15, 36]])"
      ]
     },
     "execution_count": 17,
     "metadata": {},
     "output_type": "execute_result"
    }
   ],
   "source": [
    "# 1 step\n",
    "arr1 = np.random.randint(10, 60, size = (3,3))\n",
    "arr1"
   ]
  },
  {
   "cell_type": "code",
   "execution_count": 19,
   "id": "dad48961-53a3-48f3-968a-913aa2f297a8",
   "metadata": {},
   "outputs": [
    {
     "data": {
      "text/plain": [
       "array([[[10, 12],\n",
       "        [54, 43],\n",
       "        [35, 46]]])"
      ]
     },
     "execution_count": 19,
     "metadata": {},
     "output_type": "execute_result"
    }
   ],
   "source": [
    "#2 step\n",
    "arr2 = np.array([[[10,12],[54,43],[35,46]]])\n",
    "arr2"
   ]
  },
  {
   "cell_type": "code",
   "execution_count": 25,
   "id": "180a5d0c-59a4-4027-adbd-16c4b70b55bc",
   "metadata": {},
   "outputs": [
    {
     "data": {
      "text/plain": [
       "array([15, 20, 30, 40, 50])"
      ]
     },
     "execution_count": 25,
     "metadata": {},
     "output_type": "execute_result"
    }
   ],
   "source": [
    "#3 step\n",
    "l = [15,20,30,40,50]\n",
    "np.asarray(l)"
   ]
  },
  {
   "cell_type": "code",
   "execution_count": null,
   "id": "98e4f034-d488-48ca-9a79-e480cac5dbe0",
   "metadata": {},
   "outputs": [],
   "source": []
  }
 ],
 "metadata": {
  "kernelspec": {
   "display_name": "Python 3 (ipykernel)",
   "language": "python",
   "name": "python3"
  },
  "language_info": {
   "codemirror_mode": {
    "name": "ipython",
    "version": 3
   },
   "file_extension": ".py",
   "mimetype": "text/x-python",
   "name": "python",
   "nbconvert_exporter": "python",
   "pygments_lexer": "ipython3",
   "version": "3.10.8"
  }
 },
 "nbformat": 4,
 "nbformat_minor": 5
}
