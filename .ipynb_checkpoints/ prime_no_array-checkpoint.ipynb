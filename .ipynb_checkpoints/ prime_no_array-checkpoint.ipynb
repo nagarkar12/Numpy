{
 "cells": [
  {
   "cell_type": "code",
   "execution_count": 2,
   "id": "c2ec95a3-02e8-413d-888d-13724697fda8",
   "metadata": {},
   "outputs": [],
   "source": [
    "import numpy as np"
   ]
  },
  {
   "cell_type": "code",
   "execution_count": 5,
   "id": "eb426d9f-1ae2-4e6a-bf11-f96fdf83b6e5",
   "metadata": {},
   "outputs": [],
   "source": [
    "import random"
   ]
  },
  {
   "cell_type": "markdown",
   "id": "c39e9e02-2f45-4ae0-a722-e03fa93cd94c",
   "metadata": {},
   "source": [
    "Q9. Generate a NumPy array of 100 random integers between 0 and 1000. Find and display all prime numbers in this array."
   ]
  },
  {
   "cell_type": "code",
   "execution_count": 23,
   "id": "95298219-ac65-45ad-8f4d-6dca2c0386c7",
   "metadata": {},
   "outputs": [
    {
     "name": "stdout",
     "output_type": "stream",
     "text": [
      "[809, 523, 929, 91, 697, 935, 403, 353, 443, 391, 467, 197, 355, 125, 977, 701, 727, 445, 619, 3, 65, 487, 841, 533, 779, 767, 769, 697, 539, 379, 65, 157]\n"
     ]
    }
   ],
   "source": [
    "arr = np.random.randint(0,1001,100)\n",
    "def fun(num):\n",
    "    if num <=1:\n",
    "        return False\n",
    "    if num<=3:\n",
    "        return True\n",
    "    if num%2==0 or num%3 ==0:\n",
    "        return False\n",
    "    i=5\n",
    "    while i*i <=num:\n",
    "        if num %i==0 or num %(i+2)==0:\n",
    "            return True\n",
    "        i+=6\n",
    "        return True\n",
    "prime=[num for num in arr if fun(num)]\n",
    "print(prime)"
   ]
  },
  {
   "cell_type": "code",
   "execution_count": 24,
   "id": "c9181c03-ac6e-4c61-afd3-ba52527d7080",
   "metadata": {},
   "outputs": [
    {
     "data": {
      "text/plain": [
       "100"
      ]
     },
     "execution_count": 24,
     "metadata": {},
     "output_type": "execute_result"
    }
   ],
   "source": [
    "arr.size"
   ]
  },
  {
   "cell_type": "code",
   "execution_count": null,
   "id": "7266ed51-bbfe-416a-a3a0-9c8643753186",
   "metadata": {},
   "outputs": [],
   "source": []
  }
 ],
 "metadata": {
  "kernelspec": {
   "display_name": "Python 3 (ipykernel)",
   "language": "python",
   "name": "python3"
  },
  "language_info": {
   "codemirror_mode": {
    "name": "ipython",
    "version": 3
   },
   "file_extension": ".py",
   "mimetype": "text/x-python",
   "name": "python",
   "nbconvert_exporter": "python",
   "pygments_lexer": "ipython3",
   "version": "3.10.8"
  }
 },
 "nbformat": 4,
 "nbformat_minor": 5
}
