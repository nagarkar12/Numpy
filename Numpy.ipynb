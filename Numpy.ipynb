{
 "cells": [
  {
   "cell_type": "code",
   "execution_count": 1,
   "id": "44d9a122-2c70-4430-9702-af9e54d02ce9",
   "metadata": {},
   "outputs": [],
   "source": [
    "import numpy as np"
   ]
  },
  {
   "cell_type": "code",
   "execution_count": 2,
   "id": "e7027ed4-a334-4887-af1b-5f60dc7a7b3f",
   "metadata": {},
   "outputs": [],
   "source": [
    "import random"
   ]
  },
  {
   "cell_type": "markdown",
   "id": "89a8112f-8c8c-4bc9-9037-4ee2f512d88b",
   "metadata": {},
   "source": [
    "Q5. Create a NumPy array of strings ['python', 'numpy, 'pandas). Apply different case transformations (uppercase, lowercase, title case, etc.) to each element."
   ]
  },
  {
   "cell_type": "code",
   "execution_count": 6,
   "id": "73e35d06-b9bb-4aeb-bdd8-b5926444d07b",
   "metadata": {},
   "outputs": [
    {
     "data": {
      "text/plain": [
       "array(['python', 'numpy', 'pandas'], dtype='<U6')"
      ]
     },
     "execution_count": 6,
     "metadata": {},
     "output_type": "execute_result"
    }
   ],
   "source": [
    "srt = [\"python\", \"numpy\", \"pandas\"]\n",
    "arr = np.array(srt)\n",
    "arr"
   ]
  },
  {
   "cell_type": "code",
   "execution_count": 21,
   "id": "bffcd486-cc61-44fb-9ec9-c1b3662f3b41",
   "metadata": {},
   "outputs": [
    {
     "data": {
      "text/plain": [
       "array(['PYTHON', 'NUMPY', 'PANDAS'], dtype='<U6')"
      ]
     },
     "execution_count": 21,
     "metadata": {},
     "output_type": "execute_result"
    }
   ],
   "source": [
    "array1 = np.char.upper(arr)\n",
    "array1"
   ]
  },
  {
   "cell_type": "code",
   "execution_count": 22,
   "id": "aeaee39f-e532-4151-8fd0-ad96f454389d",
   "metadata": {},
   "outputs": [
    {
     "data": {
      "text/plain": [
       "array(['python', 'numpy', 'pandas'], dtype='<U6')"
      ]
     },
     "execution_count": 22,
     "metadata": {},
     "output_type": "execute_result"
    }
   ],
   "source": [
    "array2 = np.char.lower(arr)\n",
    "array2"
   ]
  },
  {
   "cell_type": "code",
   "execution_count": 26,
   "id": "10648342-d239-401b-b7e9-2fc0e4b4d21d",
   "metadata": {},
   "outputs": [
    {
     "data": {
      "text/plain": [
       "array(['PYTHON', 'NUMPY', 'PANDAS'], dtype='<U6')"
      ]
     },
     "execution_count": 26,
     "metadata": {},
     "output_type": "execute_result"
    }
   ],
   "source": [
    "array3 = np.char.swapcase(arr)\n",
    "array3"
   ]
  },
  {
   "cell_type": "code",
   "execution_count": 27,
   "id": "9f293335-ac6a-4d9e-8696-4142035910c2",
   "metadata": {},
   "outputs": [
    {
     "data": {
      "text/plain": [
       "array(['Python', 'Numpy', 'Pandas'], dtype='<U6')"
      ]
     },
     "execution_count": 27,
     "metadata": {},
     "output_type": "execute_result"
    }
   ],
   "source": [
    "array3 = np.char.title(arr)\n",
    "array3"
   ]
  },
  {
   "cell_type": "markdown",
   "id": "9014f26c-0b78-47ab-bffd-7ed50b082e0e",
   "metadata": {},
   "source": [
    "Q6. Generate a NumPy array of words. Insert a space between each character of every word in the array."
   ]
  },
  {
   "cell_type": "code",
   "execution_count": 30,
   "id": "c41d8657-3b21-4996-bd10-bf9e6e2968f6",
   "metadata": {},
   "outputs": [
    {
     "data": {
      "text/plain": [
       "array(['python', 'numpy', 'pandas', 'C', 'HTML'], dtype='<U6')"
      ]
     },
     "execution_count": 30,
     "metadata": {},
     "output_type": "execute_result"
    }
   ],
   "source": [
    "arr = np.array([\"python\", \"numpy\", \"pandas\",\"C\",\"HTML\"])\n",
    "arr"
   ]
  },
  {
   "cell_type": "code",
   "execution_count": 36,
   "id": "b745283a-dfcb-4326-acdb-5003db74dcc8",
   "metadata": {},
   "outputs": [
    {
     "data": {
      "text/plain": [
       "[['p', 'y', 't', 'h', 'o', 'n'],\n",
       " ['n', 'u', 'm', 'p', 'y'],\n",
       " ['p', 'a', 'n', 'd', 'a', 's'],\n",
       " ['c'],\n",
       " ['h', 't', 'm', 'l']]"
      ]
     },
     "execution_count": 36,
     "metadata": {},
     "output_type": "execute_result"
    }
   ],
   "source": [
    "a = [[x.lower() for x in a]for a in arr]\n",
    "a"
   ]
  },
  {
   "cell_type": "markdown",
   "id": "b98061d7-aedb-4b7c-8f2d-f3ad3ed6f4fc",
   "metadata": {},
   "source": [
    "Q7. Create two 2D NumPy arrays and perform element-wise addition, subtraction, multiplication, and division."
   ]
  },
  {
   "cell_type": "code",
   "execution_count": 44,
   "id": "83cf962d-ffd3-470f-98ae-b2b397eac6e2",
   "metadata": {},
   "outputs": [],
   "source": [
    "arr1 = np.random.randint(1, 10,(3, 3))\n",
    "arr2 = np.random.randint(1, 10,(3, 3))"
   ]
  },
  {
   "cell_type": "code",
   "execution_count": 45,
   "id": "74436fd5-c028-44cc-b3d0-882df4c36069",
   "metadata": {},
   "outputs": [
    {
     "data": {
      "text/plain": [
       "array([[5, 8, 7],\n",
       "       [9, 2, 3],\n",
       "       [7, 3, 4]])"
      ]
     },
     "execution_count": 45,
     "metadata": {},
     "output_type": "execute_result"
    }
   ],
   "source": [
    "arr1"
   ]
  },
  {
   "cell_type": "code",
   "execution_count": 46,
   "id": "ebe6dab8-7913-4dde-9505-e38967644ec3",
   "metadata": {},
   "outputs": [
    {
     "data": {
      "text/plain": [
       "array([[4, 2, 4],\n",
       "       [8, 2, 1],\n",
       "       [8, 1, 8]])"
      ]
     },
     "execution_count": 46,
     "metadata": {},
     "output_type": "execute_result"
    }
   ],
   "source": [
    "arr2"
   ]
  },
  {
   "cell_type": "code",
   "execution_count": 47,
   "id": "f321ff88-83cd-43a3-b875-af77e339921c",
   "metadata": {},
   "outputs": [
    {
     "data": {
      "text/plain": [
       "array([[ 9, 10, 11],\n",
       "       [17,  4,  4],\n",
       "       [15,  4, 12]])"
      ]
     },
     "execution_count": 47,
     "metadata": {},
     "output_type": "execute_result"
    }
   ],
   "source": [
    "arr1 + arr2"
   ]
  },
  {
   "cell_type": "code",
   "execution_count": 49,
   "id": "0825a621-ceb6-4387-9e4f-ffd718b2cda1",
   "metadata": {},
   "outputs": [
    {
     "data": {
      "text/plain": [
       "array([[20, 16, 28],\n",
       "       [72,  4,  3],\n",
       "       [56,  3, 32]])"
      ]
     },
     "execution_count": 49,
     "metadata": {},
     "output_type": "execute_result"
    }
   ],
   "source": [
    "arr1 * arr2"
   ]
  },
  {
   "cell_type": "code",
   "execution_count": 50,
   "id": "c07ded25-0c6a-45e4-819b-18d15fbde410",
   "metadata": {},
   "outputs": [
    {
     "data": {
      "text/plain": [
       "array([[1.25 , 4.   , 1.75 ],\n",
       "       [1.125, 1.   , 3.   ],\n",
       "       [0.875, 3.   , 0.5  ]])"
      ]
     },
     "execution_count": 50,
     "metadata": {},
     "output_type": "execute_result"
    }
   ],
   "source": [
    "arr1 / arr2"
   ]
  },
  {
   "cell_type": "markdown",
   "id": "9cb7ac57-fbe5-4102-a57f-db49785e3d61",
   "metadata": {},
   "source": [
    "Q8. Use NumPy to create a 5x5 identity matrix, then extract its diagonal elements."
   ]
  },
  {
   "cell_type": "code",
   "execution_count": 64,
   "id": "62871b55-60c2-4b74-81ed-39ccee42677f",
   "metadata": {},
   "outputs": [
    {
     "data": {
      "text/plain": [
       "matrix([[10, 20, 30, 40, 50]])"
      ]
     },
     "execution_count": 64,
     "metadata": {},
     "output_type": "execute_result"
    }
   ],
   "source": [
    "m=np.matrix([10,20,30,40,50])\n",
    "m"
   ]
  },
  {
   "cell_type": "code",
   "execution_count": 65,
   "id": "c442b020-290c-49e0-ad00-ad6539eb91a7",
   "metadata": {},
   "outputs": [
    {
     "data": {
      "text/plain": [
       "matrix([[10]])"
      ]
     },
     "execution_count": 65,
     "metadata": {},
     "output_type": "execute_result"
    }
   ],
   "source": [
    "a = m.diagonal()\n",
    "a"
   ]
  },
  {
   "cell_type": "code",
   "execution_count": null,
   "id": "87e160b7-5f5e-4674-92f5-afa13da7fe1e",
   "metadata": {},
   "outputs": [],
   "source": []
  }
 ],
 "metadata": {
  "kernelspec": {
   "display_name": "Python 3 (ipykernel)",
   "language": "python",
   "name": "python3"
  },
  "language_info": {
   "codemirror_mode": {
    "name": "ipython",
    "version": 3
   },
   "file_extension": ".py",
   "mimetype": "text/x-python",
   "name": "python",
   "nbconvert_exporter": "python",
   "pygments_lexer": "ipython3",
   "version": "3.10.8"
  }
 },
 "nbformat": 4,
 "nbformat_minor": 5
}
